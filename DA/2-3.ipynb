{
 "cells": [
  {
   "cell_type": "code",
   "execution_count": 5,
   "metadata": {},
   "outputs": [
    {
     "name": "stdout",
     "output_type": "stream",
     "text": [
      "   ID   Name  Age  Gender  MathScore  EnglishScore  Score       Address  \\\n",
      "0   1   John   25    Male         80            90   85.0   123 Main St   \n",
      "1   2  Alice   30  Female         70            85   77.5    456 Elm St   \n",
      "2   3    Bob   22    Male         60            75   67.5    789 Oak St   \n",
      "3   4    Eve   28  Female         55            95   75.0   101 Pine St   \n",
      "4   5  Chris   24    Male         90            80   85.0  111 Maple St   \n",
      "\n",
      "        Full_Name  Subject        Date  \n",
      "0        John Doe     Math  2023-08-01  \n",
      "1     Alice Smith  English  2023-08-02  \n",
      "2  Robert Johnson     Math  2023-08-01  \n",
      "3    Eve Williams  English  2023-08-03  \n",
      "4     Chris Brown     Math  2023-08-02  \n"
     ]
    }
   ],
   "source": [
    "import pandas as pd\n",
    "\n",
    "df_raw = pd.read_csv(\"data.csv\")\n",
    "print(df_raw.head())"
   ]
  },
  {
   "cell_type": "code",
   "execution_count": 7,
   "metadata": {},
   "outputs": [
    {
     "data": {
      "text/html": [
       "<div>\n",
       "<style scoped>\n",
       "    .dataframe tbody tr th:only-of-type {\n",
       "        vertical-align: middle;\n",
       "    }\n",
       "\n",
       "    .dataframe tbody tr th {\n",
       "        vertical-align: top;\n",
       "    }\n",
       "\n",
       "    .dataframe thead th {\n",
       "        text-align: right;\n",
       "    }\n",
       "</style>\n",
       "<table border=\"1\" class=\"dataframe\">\n",
       "  <thead>\n",
       "    <tr style=\"text-align: right;\">\n",
       "      <th></th>\n",
       "      <th>ID</th>\n",
       "      <th>Name</th>\n",
       "      <th>Age</th>\n",
       "      <th>Gender</th>\n",
       "      <th>MathScore</th>\n",
       "      <th>EnglishScore</th>\n",
       "      <th>Score</th>\n",
       "      <th>Address</th>\n",
       "      <th>Full_Name</th>\n",
       "      <th>Subject</th>\n",
       "      <th>Date</th>\n",
       "    </tr>\n",
       "  </thead>\n",
       "  <tbody>\n",
       "    <tr>\n",
       "      <th>0</th>\n",
       "      <td>1</td>\n",
       "      <td>John</td>\n",
       "      <td>25</td>\n",
       "      <td>Male</td>\n",
       "      <td>80</td>\n",
       "      <td>90</td>\n",
       "      <td>85.0</td>\n",
       "      <td>123 Main St</td>\n",
       "      <td>John Doe</td>\n",
       "      <td>Math</td>\n",
       "      <td>2023-08-01</td>\n",
       "    </tr>\n",
       "    <tr>\n",
       "      <th>1</th>\n",
       "      <td>2</td>\n",
       "      <td>Alice</td>\n",
       "      <td>30</td>\n",
       "      <td>Female</td>\n",
       "      <td>70</td>\n",
       "      <td>85</td>\n",
       "      <td>77.5</td>\n",
       "      <td>456 Elm St</td>\n",
       "      <td>Alice Smith</td>\n",
       "      <td>English</td>\n",
       "      <td>2023-08-02</td>\n",
       "    </tr>\n",
       "    <tr>\n",
       "      <th>2</th>\n",
       "      <td>3</td>\n",
       "      <td>Bob</td>\n",
       "      <td>22</td>\n",
       "      <td>Male</td>\n",
       "      <td>60</td>\n",
       "      <td>75</td>\n",
       "      <td>67.5</td>\n",
       "      <td>789 Oak St</td>\n",
       "      <td>Robert Johnson</td>\n",
       "      <td>Math</td>\n",
       "      <td>2023-08-01</td>\n",
       "    </tr>\n",
       "    <tr>\n",
       "      <th>3</th>\n",
       "      <td>4</td>\n",
       "      <td>Eve</td>\n",
       "      <td>28</td>\n",
       "      <td>Female</td>\n",
       "      <td>55</td>\n",
       "      <td>95</td>\n",
       "      <td>75.0</td>\n",
       "      <td>101 Pine St</td>\n",
       "      <td>Eve Williams</td>\n",
       "      <td>English</td>\n",
       "      <td>2023-08-03</td>\n",
       "    </tr>\n",
       "    <tr>\n",
       "      <th>4</th>\n",
       "      <td>5</td>\n",
       "      <td>Chris</td>\n",
       "      <td>24</td>\n",
       "      <td>Male</td>\n",
       "      <td>90</td>\n",
       "      <td>80</td>\n",
       "      <td>85.0</td>\n",
       "      <td>111 Maple St</td>\n",
       "      <td>Chris Brown</td>\n",
       "      <td>Math</td>\n",
       "      <td>2023-08-02</td>\n",
       "    </tr>\n",
       "  </tbody>\n",
       "</table>\n",
       "</div>"
      ],
      "text/plain": [
       "   ID   Name  Age  Gender  MathScore  EnglishScore  Score       Address  \\\n",
       "0   1   John   25    Male         80            90   85.0   123 Main St   \n",
       "1   2  Alice   30  Female         70            85   77.5    456 Elm St   \n",
       "2   3    Bob   22    Male         60            75   67.5    789 Oak St   \n",
       "3   4    Eve   28  Female         55            95   75.0   101 Pine St   \n",
       "4   5  Chris   24    Male         90            80   85.0  111 Maple St   \n",
       "\n",
       "        Full_Name  Subject        Date  \n",
       "0        John Doe     Math  2023-08-01  \n",
       "1     Alice Smith  English  2023-08-02  \n",
       "2  Robert Johnson     Math  2023-08-01  \n",
       "3    Eve Williams  English  2023-08-03  \n",
       "4     Chris Brown     Math  2023-08-02  "
      ]
     },
     "execution_count": 7,
     "metadata": {},
     "output_type": "execute_result"
    }
   ],
   "source": [
    "df = df_raw.copy() \n",
    "df"
   ]
  },
  {
   "cell_type": "code",
   "execution_count": 8,
   "metadata": {},
   "outputs": [
    {
     "name": "stdout",
     "output_type": "stream",
     "text": [
      "0    25\n",
      "1    30\n",
      "2    22\n",
      "3    28\n",
      "4    24\n",
      "Name: Age, dtype: int64\n"
     ]
    }
   ],
   "source": [
    "age_column = df['Age']\n",
    "print(age_column.head(10))"
   ]
  },
  {
   "cell_type": "code",
   "execution_count": 9,
   "metadata": {},
   "outputs": [
    {
     "name": "stdout",
     "output_type": "stream",
     "text": [
      "   ID   Name  Age  Gender  MathScore  EnglishScore  Score      Address  \\\n",
      "1   2  Alice   30  Female         70            85   77.5   456 Elm St   \n",
      "3   4    Eve   28  Female         55            95   75.0  101 Pine St   \n",
      "\n",
      "      Full_Name  Subject        Date  \n",
      "1   Alice Smith  English  2023-08-02  \n",
      "3  Eve Williams  English  2023-08-03  \n"
     ]
    }
   ],
   "source": [
    "data_1 = df[(df['Gender']== 'Female') & (df['Age'] > 25)]\n",
    "print(data_1)"
   ]
  },
  {
   "cell_type": "code",
   "execution_count": 10,
   "metadata": {},
   "outputs": [
    {
     "name": "stdout",
     "output_type": "stream",
     "text": [
      "390.0\n"
     ]
    }
   ],
   "source": [
    "score_sum =  df['Score'].sum()\n",
    "print(score_sum)"
   ]
  },
  {
   "cell_type": "code",
   "execution_count": 11,
   "metadata": {},
   "outputs": [
    {
     "data": {
      "text/html": [
       "<div>\n",
       "<style scoped>\n",
       "    .dataframe tbody tr th:only-of-type {\n",
       "        vertical-align: middle;\n",
       "    }\n",
       "\n",
       "    .dataframe tbody tr th {\n",
       "        vertical-align: top;\n",
       "    }\n",
       "\n",
       "    .dataframe thead th {\n",
       "        text-align: right;\n",
       "    }\n",
       "</style>\n",
       "<table border=\"1\" class=\"dataframe\">\n",
       "  <thead>\n",
       "    <tr style=\"text-align: right;\">\n",
       "      <th></th>\n",
       "      <th>ID</th>\n",
       "      <th>Name</th>\n",
       "      <th>Age</th>\n",
       "      <th>Gender</th>\n",
       "      <th>MathScore</th>\n",
       "      <th>EnglishScore</th>\n",
       "      <th>Score</th>\n",
       "      <th>Address</th>\n",
       "      <th>Full_Name</th>\n",
       "      <th>Subject</th>\n",
       "      <th>Date</th>\n",
       "      <th>TotalScore</th>\n",
       "    </tr>\n",
       "  </thead>\n",
       "  <tbody>\n",
       "    <tr>\n",
       "      <th>0</th>\n",
       "      <td>1</td>\n",
       "      <td>John</td>\n",
       "      <td>25</td>\n",
       "      <td>Male</td>\n",
       "      <td>80</td>\n",
       "      <td>90</td>\n",
       "      <td>85.0</td>\n",
       "      <td>123 Main St</td>\n",
       "      <td>John Doe</td>\n",
       "      <td>Math</td>\n",
       "      <td>2023-08-01</td>\n",
       "      <td>170</td>\n",
       "    </tr>\n",
       "    <tr>\n",
       "      <th>1</th>\n",
       "      <td>2</td>\n",
       "      <td>Alice</td>\n",
       "      <td>30</td>\n",
       "      <td>Female</td>\n",
       "      <td>70</td>\n",
       "      <td>85</td>\n",
       "      <td>77.5</td>\n",
       "      <td>456 Elm St</td>\n",
       "      <td>Alice Smith</td>\n",
       "      <td>English</td>\n",
       "      <td>2023-08-02</td>\n",
       "      <td>155</td>\n",
       "    </tr>\n",
       "    <tr>\n",
       "      <th>2</th>\n",
       "      <td>3</td>\n",
       "      <td>Bob</td>\n",
       "      <td>22</td>\n",
       "      <td>Male</td>\n",
       "      <td>60</td>\n",
       "      <td>75</td>\n",
       "      <td>67.5</td>\n",
       "      <td>789 Oak St</td>\n",
       "      <td>Robert Johnson</td>\n",
       "      <td>Math</td>\n",
       "      <td>2023-08-01</td>\n",
       "      <td>135</td>\n",
       "    </tr>\n",
       "    <tr>\n",
       "      <th>3</th>\n",
       "      <td>4</td>\n",
       "      <td>Eve</td>\n",
       "      <td>28</td>\n",
       "      <td>Female</td>\n",
       "      <td>55</td>\n",
       "      <td>95</td>\n",
       "      <td>75.0</td>\n",
       "      <td>101 Pine St</td>\n",
       "      <td>Eve Williams</td>\n",
       "      <td>English</td>\n",
       "      <td>2023-08-03</td>\n",
       "      <td>150</td>\n",
       "    </tr>\n",
       "    <tr>\n",
       "      <th>4</th>\n",
       "      <td>5</td>\n",
       "      <td>Chris</td>\n",
       "      <td>24</td>\n",
       "      <td>Male</td>\n",
       "      <td>90</td>\n",
       "      <td>80</td>\n",
       "      <td>85.0</td>\n",
       "      <td>111 Maple St</td>\n",
       "      <td>Chris Brown</td>\n",
       "      <td>Math</td>\n",
       "      <td>2023-08-02</td>\n",
       "      <td>170</td>\n",
       "    </tr>\n",
       "  </tbody>\n",
       "</table>\n",
       "</div>"
      ],
      "text/plain": [
       "   ID   Name  Age  Gender  MathScore  EnglishScore  Score       Address  \\\n",
       "0   1   John   25    Male         80            90   85.0   123 Main St   \n",
       "1   2  Alice   30  Female         70            85   77.5    456 Elm St   \n",
       "2   3    Bob   22    Male         60            75   67.5    789 Oak St   \n",
       "3   4    Eve   28  Female         55            95   75.0   101 Pine St   \n",
       "4   5  Chris   24    Male         90            80   85.0  111 Maple St   \n",
       "\n",
       "        Full_Name  Subject        Date  TotalScore  \n",
       "0        John Doe     Math  2023-08-01         170  \n",
       "1     Alice Smith  English  2023-08-02         155  \n",
       "2  Robert Johnson     Math  2023-08-01         135  \n",
       "3    Eve Williams  English  2023-08-03         150  \n",
       "4     Chris Brown     Math  2023-08-02         170  "
      ]
     },
     "execution_count": 11,
     "metadata": {},
     "output_type": "execute_result"
    }
   ],
   "source": [
    "df['TotalScore'] = df['MathScore'] + df['EnglishScore'] # THEM COT MOI\n",
    "df.head()"
   ]
  },
  {
   "cell_type": "code",
   "execution_count": 12,
   "metadata": {},
   "outputs": [
    {
     "name": "stdout",
     "output_type": "stream",
     "text": [
      "   ID   Name  Age  Gender  MathScore  EnglishScore  Score       Address  \\\n",
      "2   3    Bob   22    Male         60            75   67.5    789 Oak St   \n",
      "4   5  Chris   24    Male         90            80   85.0  111 Maple St   \n",
      "0   1   John   25    Male         80            90   85.0   123 Main St   \n",
      "3   4    Eve   28  Female         55            95   75.0   101 Pine St   \n",
      "1   2  Alice   30  Female         70            85   77.5    456 Elm St   \n",
      "\n",
      "        Full_Name  Subject        Date  TotalScore  \n",
      "2  Robert Johnson     Math  2023-08-01         135  \n",
      "4     Chris Brown     Math  2023-08-02         170  \n",
      "0        John Doe     Math  2023-08-01         170  \n",
      "3    Eve Williams  English  2023-08-03         150  \n",
      "1     Alice Smith  English  2023-08-02         155  \n"
     ]
    }
   ],
   "source": [
    "sorted_df  = df.sort_values(by='Age', ascending=True)\n",
    "print(sorted_df.head())"
   ]
  },
  {
   "cell_type": "code",
   "execution_count": 14,
   "metadata": {},
   "outputs": [
    {
     "name": "stdout",
     "output_type": "stream",
     "text": [
      "Gender\n",
      "Female    29.000000\n",
      "Male      23.666667\n",
      "Name: Age, dtype: float64\n"
     ]
    }
   ],
   "source": [
    "grouped_data = df.groupby('Gender')['Age'].mean()\n",
    "print(grouped_data)"
   ]
  },
  {
   "cell_type": "code",
   "execution_count": 15,
   "metadata": {},
   "outputs": [
    {
     "name": "stdout",
     "output_type": "stream",
     "text": [
      "   ID   Name  Age  Gender  MathScore  EnglishScore  Score       Address  \\\n",
      "0   1   John   25    Male         80            90   85.0   123 Main St   \n",
      "1   2  Alice   30  Female         70            85   77.5    456 Elm St   \n",
      "2   3    Bob   22    Male         60            75   67.5    789 Oak St   \n",
      "3   4    Eve   28  Female         55            95   75.0   101 Pine St   \n",
      "4   5  Chris   24    Male         90            80   85.0  111 Maple St   \n",
      "\n",
      "        Full_Name  Subject        Date  TotalScore  \n",
      "0        John Doe     Math  2023-08-01         170  \n",
      "1     Alice Smith  English  2023-08-02         155  \n",
      "2  Robert Johnson     Math  2023-08-01         135  \n",
      "3    Eve Williams  English  2023-08-03         150  \n",
      "4     Chris Brown     Math  2023-08-02         170  \n"
     ]
    }
   ],
   "source": [
    "df = df.drop_duplicates() # xoa du lieu trung\n",
    "print(df)"
   ]
  },
  {
   "cell_type": "code",
   "execution_count": 16,
   "metadata": {},
   "outputs": [
    {
     "name": "stdout",
     "output_type": "stream",
     "text": [
      "   ID   Name  Age  Gender  MathScore  EnglishScore  Score       Address  \\\n",
      "0   1   John   25    Male         80            90   85.0   123 Main St   \n",
      "1   2  Alice   30  Female         70            85   77.5    456 Elm St   \n",
      "2   3    Bob   22    Male         60            75   67.5    789 Oak St   \n",
      "3   4    Eve   28  Female         55            95   75.0   101 Pine St   \n",
      "4   5  Chris   24    Male         90            80   85.0  111 Maple St   \n",
      "\n",
      "        Full_Name  Subject        Date  TotalScore  \n",
      "0        John Doe     Math  2023-08-01         170  \n",
      "1     Alice Smith  English  2023-08-02         155  \n",
      "2  Robert Johnson     Math  2023-08-01         135  \n",
      "3    Eve Williams  English  2023-08-03         150  \n",
      "4     Chris Brown     Math  2023-08-02         170  \n"
     ]
    }
   ],
   "source": [
    "a_age = df['Age'].mean()\n",
    "df['Age'].fillna(a_age, inplace=True)\n",
    "print(df)"
   ]
  },
  {
   "cell_type": "code",
   "execution_count": null,
   "metadata": {},
   "outputs": [],
   "source": [
    "score_descrip = df['Score'].describe()\n",
    "print(score_descrip)"
   ]
  },
  {
   "cell_type": "code",
   "execution_count": null,
   "metadata": {},
   "outputs": [],
   "source": []
  }
 ],
 "metadata": {
  "kernelspec": {
   "display_name": "base",
   "language": "python",
   "name": "python3"
  },
  "language_info": {
   "codemirror_mode": {
    "name": "ipython",
    "version": 3
   },
   "file_extension": ".py",
   "mimetype": "text/x-python",
   "name": "python",
   "nbconvert_exporter": "python",
   "pygments_lexer": "ipython3",
   "version": "3.11.3"
  },
  "orig_nbformat": 4
 },
 "nbformat": 4,
 "nbformat_minor": 2
}
